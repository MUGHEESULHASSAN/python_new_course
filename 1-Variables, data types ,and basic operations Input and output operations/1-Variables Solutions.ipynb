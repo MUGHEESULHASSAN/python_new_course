{
 "cells": [
  {
   "cell_type": "markdown",
   "metadata": {},
   "source": [
    "### Basic Level:"
   ]
  },
  {
   "cell_type": "code",
   "execution_count": 13,
   "metadata": {},
   "outputs": [
    {
     "name": "stdout",
     "output_type": "stream",
     "text": [
      "5\n",
      "8\n"
     ]
    }
   ],
   "source": [
    "# **Variable Declaration:**\n",
    "#   - Declare two variables, `x` and `y`, and assign them values 5 and 8, respectively. Print their sum.\n",
    "x = 5 \n",
    "y = 8\n",
    "print(x)\n",
    "print(y)"
   ]
  },
  {
   "cell_type": "code",
   "execution_count": 14,
   "metadata": {},
   "outputs": [
    {
     "name": "stdout",
     "output_type": "stream",
     "text": [
      "<class 'float'>\n"
     ]
    }
   ],
   "source": [
    "#**Variable Types:**\n",
    "#   - Declare a variable `my_var` with a value of 3.14. Determine its type and print the result.\n",
    "my_var = 3.14\n",
    "print(type(my_var))"
   ]
  },
  {
   "cell_type": "code",
   "execution_count": 15,
   "metadata": {},
   "outputs": [
    {
     "name": "stdout",
     "output_type": "stream",
     "text": [
      "Before swaping x and y (5, 8)\n",
      "after Swaping x and y (8, 5)\n"
     ]
    }
   ],
   "source": [
    "#**Variable Swap:**\n",
    "#   - Swap the values of two variables, `a` and `b`. Print the updated values.\n",
    "x = 5\n",
    "y = 8\n",
    "print(\"Before swaping x and y\",(x,y))\n",
    "temp = x\n",
    "x = y\n",
    "y = temp\n",
    "print(\"after Swaping x and y\",(x,y))"
   ]
  },
  {
   "cell_type": "code",
   "execution_count": 16,
   "metadata": {},
   "outputs": [
    {
     "name": "stdout",
     "output_type": "stream",
     "text": [
      "Muhammad Ahmad\n"
     ]
    }
   ],
   "source": [
    "#**String Concatenation:**\n",
    "#   - Create two string variables, `first_name` and `last_name`. Concatenate them to form a full name and print it.\n",
    "first_name = \"Muhammad\"\n",
    "last_name = \"Ahmad\"\n",
    "full_name = first_name + \" \"+last_name\n",
    "print(full_name)"
   ]
  },
  {
   "cell_type": "code",
   "execution_count": 17,
   "metadata": {},
   "outputs": [
    {
     "name": "stdout",
     "output_type": "stream",
     "text": [
      "20\n"
     ]
    }
   ],
   "source": [
    "#**Variable Reassignment:**\n",
    "#   - Declare a variable `count` and assign it an initial value of 10. \n",
    "#     Reassign the variable with a new value and print it.\n",
    "count = 10\n",
    "count = 20\n",
    "print(count)"
   ]
  },
  {
   "cell_type": "markdown",
   "metadata": {},
   "source": [
    "### Intermediate Level:"
   ]
  },
  {
   "cell_type": "code",
   "execution_count": 19,
   "metadata": {},
   "outputs": [
    {
     "name": "stdout",
     "output_type": "stream",
     "text": [
      "105\n"
     ]
    }
   ],
   "source": [
    "#**Multiple Assignments:**\n",
    "#   - Assign values 3, 5, and 7 to variables `a`, `b`, and `c` in a single line. \n",
    "#Print their product.\n",
    "a,b,c = 3,5,7\n",
    "print(a*b*c)"
   ]
  },
  {
   "cell_type": "code",
   "execution_count": 20,
   "metadata": {},
   "outputs": [
    {
     "name": "stdout",
     "output_type": "stream",
     "text": [
      "3.14169\n"
     ]
    }
   ],
   "source": [
    "#**Floating-Point Precision:**\n",
    "#   - Declare a variable `pi` with the value of π (pi) rounded to 5 decimal places. \n",
    "#Print the result.\n",
    "pi = 3.14169\n",
    "print(pi)"
   ]
  },
  {
   "cell_type": "code",
   "execution_count": 21,
   "metadata": {},
   "outputs": [
    {
     "name": "stdout",
     "output_type": "stream",
     "text": [
      "Is Python fun True\n"
     ]
    }
   ],
   "source": [
    "#**Boolean Variables:**\n",
    "#   - Declare a variable `is_python_fun` and assign it a boolean value. \n",
    "#Print a statement based on its value.\n",
    "is_python_fun = True\n",
    "print(\"Is Python fun %s\" % is_python_fun)"
   ]
  },
  {
   "cell_type": "code",
   "execution_count": 23,
   "metadata": {},
   "outputs": [
    {
     "name": "stdout",
     "output_type": "stream",
     "text": [
      "Outside function 10\n",
      "Inside Function 10\n"
     ]
    }
   ],
   "source": [
    "#**Variable Scope:**\n",
    "#   - Create a function that takes a parameter and prints the variable both inside and outside \n",
    "#the function.\n",
    "num = 10\n",
    "print(\"Outside function %s\" %num)\n",
    "def func(num):\n",
    "    print(\"Inside Function %s\" % num)\n",
    "\n",
    "func(num)"
   ]
  },
  {
   "cell_type": "code",
   "execution_count": 24,
   "metadata": {},
   "outputs": [
    {
     "name": "stdout",
     "output_type": "stream",
     "text": [
      "['banana', 'mango', 'apple']\n"
     ]
    }
   ],
   "source": [
    "#**List Variables:**\n",
    "#    - Declare a list variable `fruits` containing three fruit names. \n",
    "#Print the list.\n",
    "fruits = ['banana','mango','apple']\n",
    "print(fruits)"
   ]
  },
  {
   "cell_type": "markdown",
   "metadata": {},
   "source": [
    "### Advanced Level:"
   ]
  },
  {
   "cell_type": "code",
   "execution_count": 25,
   "metadata": {},
   "outputs": [
    {
     "name": "stdout",
     "output_type": "stream",
     "text": [
      "1\n",
      "2\n",
      "3\n"
     ]
    }
   ],
   "source": [
    "#**Tuple Unpacking:**\n",
    "#    - Create a tuple with three values and unpack them into three variables. \n",
    "#Print the variables.\n",
    "tuple_one = (1,2,3)\n",
    "a,b,c = tuple_one\n",
    "print(a)\n",
    "print(b)\n",
    "print(c)"
   ]
  },
  {
   "cell_type": "code",
   "execution_count": 29,
   "metadata": {},
   "outputs": [
    {
     "name": "stdout",
     "output_type": "stream",
     "text": [
      "21\n",
      "22\n",
      "25\n"
     ]
    }
   ],
   "source": [
    "#**Dictionary Manipulation:**\n",
    "#    - Create a dictionary with at least three key-value pairs representing student names \n",
    "#and their ages. Print the dictionary.\n",
    "dict_student = {'ahmad':21,\n",
    "                'jawad': 22,\n",
    "                'Umar':25}\n",
    "print(dict_student['ahmad'])\n",
    "print(dict_student['jawad'])\n",
    "print(dict_student['Umar'])"
   ]
  },
  {
   "cell_type": "code",
   "execution_count": 1,
   "metadata": {},
   "outputs": [
    {
     "name": "stdout",
     "output_type": "stream",
     "text": [
      "Num value outside the fumction 10\n",
      "Num value inside the fumction 10\n"
     ]
    }
   ],
   "source": [
    "#**Global vs Local Variables:**\n",
    "#    - Declare a global variable and a function that modifies a local variable with the same name. \n",
    "#Print both variables.\n",
    "num = 10\n",
    "print(\"Num value outside the fumction %s\" % num)\n",
    "def func(num):\n",
    "    print(\"Num value inside the fumction %s\" % num)\n",
    "\n",
    "func(num)"
   ]
  },
  {
   "cell_type": "code",
   "execution_count": 2,
   "metadata": {},
   "outputs": [
    {
     "name": "stdout",
     "output_type": "stream",
     "text": [
      "7e+19\n"
     ]
    }
   ],
   "source": [
    "#**Variable Annotations:**\n",
    "#    - Use variable annotations to declare a variable `population` with the value of 7 billion. \n",
    "#Print the value.\n",
    "papolation = 7e19\n",
    "print(papolation)"
   ]
  },
  {
   "cell_type": "code",
   "execution_count": 3,
   "metadata": {},
   "outputs": [
    {
     "name": "stdout",
     "output_type": "stream",
     "text": [
      "Num variable inside the function with value of 20 \n",
      "Num variables outside the function 10\n"
     ]
    }
   ],
   "source": [
    "# **Variable Shadowing:**\n",
    "#    - Create a variable with a global scope. Inside a function, create a variable with \n",
    "#the same name. Print both variables.\n",
    "num = 10\n",
    "\n",
    "def func():\n",
    "    num = 20\n",
    "    print(\"Num variable inside the function with value of %i \"% num)\n",
    "func()\n",
    "print(\"Num variables outside the function %s\" %num) "
   ]
  },
  {
   "cell_type": "code",
   "execution_count": 4,
   "metadata": {},
   "outputs": [
    {
     "name": "stdout",
     "output_type": "stream",
     "text": [
      "Before swapping without temp value of x y x 10 20 30\n",
      "After swapping without temp value of x y x 20 30 10\n"
     ]
    }
   ],
   "source": [
    "#**Multiple Variable Swaps:**\n",
    "#    - Swap the values of three variables (`x`, `y`, `z`) without using temporary variables.\n",
    "#Print the updated values.\n",
    "x = 10\n",
    "y = 20\n",
    "z = 30\n",
    "print(\"Before swapping without temp value of x y x %i %i %i\" % (x,y,z))\n",
    "x, y = y, x \n",
    "y ,z = z, y\n",
    "print(\"After swapping without temp value of x y x %i %i %i\" % (x,y,z))\n"
   ]
  },
  {
   "cell_type": "code",
   "execution_count": 5,
   "metadata": {},
   "outputs": [
    {
     "name": "stdout",
     "output_type": "stream",
     "text": [
      " Increment with Augmented assignment operator 40\n"
     ]
    }
   ],
   "source": [
    "#**Variable Augmented Assignment:**\n",
    "#    - Declare a variable `counter` and increment it using the augmented assignment operator. \n",
    "#Print the result.\n",
    "count = 20\n",
    "count +=20\n",
    "print(\" Increment with Augmented assignment operator %i\" % count)\n"
   ]
  },
  {
   "cell_type": "code",
   "execution_count": 3,
   "metadata": {},
   "outputs": [
    {
     "name": "stdout",
     "output_type": "stream",
     "text": [
      "<enumerate object at 0x00000173613DB290>\n",
      "<class 'enumerate'>\n",
      "[(0, 'Apple'), (1, 'Banana'), (2, 'Orange'), (3, 'Mango'), (4, 'Watermalon')]\n"
     ]
    }
   ],
   "source": [
    "#**Enumerate and Variables:**\n",
    "#    - Use the `enumerate` function to iterate over a list of animals and print both the \n",
    "#    index and the animal name.\n",
    "foods = [\"Apple\", \"Banana\",\"Orange\",\"Mango\",\"Watermalon\"]\n",
    "enum_obj = enumerate(foods)\n",
    "print(enum_obj)\n",
    "print(type(enum_obj))\n",
    "print(list(enum_obj))"
   ]
  },
  {
   "cell_type": "code",
   "execution_count": 4,
   "metadata": {},
   "outputs": [
    {
     "ename": "NameError",
     "evalue": "name 'temp' is not defined",
     "output_type": "error",
     "traceback": [
      "\u001b[1;31m---------------------------------------------------------------------------\u001b[0m",
      "\u001b[1;31mNameError\u001b[0m                                 Traceback (most recent call last)",
      "Cell \u001b[1;32mIn[4], line 6\u001b[0m\n\u001b[0;32m      4\u001b[0m temp \u001b[38;5;241m=\u001b[39m \u001b[38;5;241m10\u001b[39m\n\u001b[0;32m      5\u001b[0m \u001b[38;5;28;01mdel\u001b[39;00m temp\n\u001b[1;32m----> 6\u001b[0m \u001b[38;5;28mprint\u001b[39m(\u001b[43mtemp\u001b[49m)\n",
      "\u001b[1;31mNameError\u001b[0m: name 'temp' is not defined"
     ]
    }
   ],
   "source": [
    "#**Variable Deletion:**\n",
    "#    - Declare a variable `temp` with a value. Delete the variable using the `del` keyword. \n",
    "#    Attempt to print it afterward.\n",
    "temp = 10\n",
    "del temp\n",
    "print(temp)"
   ]
  },
  {
   "cell_type": "code",
   "execution_count": 5,
   "metadata": {},
   "outputs": [
    {
     "name": "stdout",
     "output_type": "stream",
     "text": [
      "100\n"
     ]
    }
   ],
   "source": [
    "# **Function as a Variable:**\n",
    "#    - Create a function that calculates the square of a number. Assign the function to a\n",
    "#     variable and use it to calculate the square of 9.\n",
    "def square(num):\n",
    "    return num **2\n",
    "print(square(10))\n",
    "\n"
   ]
  }
 ],
 "metadata": {
  "kernelspec": {
   "display_name": "Python 3",
   "language": "python",
   "name": "python3"
  },
  "language_info": {
   "codemirror_mode": {
    "name": "ipython",
    "version": 3
   },
   "file_extension": ".py",
   "mimetype": "text/x-python",
   "name": "python",
   "nbconvert_exporter": "python",
   "pygments_lexer": "ipython3",
   "version": "3.12.1"
  }
 },
 "nbformat": 4,
 "nbformat_minor": 2
}
