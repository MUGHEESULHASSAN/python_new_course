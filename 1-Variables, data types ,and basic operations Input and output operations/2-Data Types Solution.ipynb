{
 "cells": [
  {
   "cell_type": "code",
   "execution_count": 1,
   "metadata": {},
   "outputs": [
    {
     "name": "stdout",
     "output_type": "stream",
     "text": [
      "<class 'int'>\n"
     ]
    }
   ],
   "source": [
    "#**Question 1:**\n",
    "#   Create a variable `num` and assign an integer value to it. Print the value and its data type.\n",
    "num = 10\n",
    "print(type(num))\n"
   ]
  },
  {
   "cell_type": "code",
   "execution_count": 2,
   "metadata": {},
   "outputs": [
    {
     "name": "stdout",
     "output_type": "stream",
     "text": [
      "MuhammadAhmad\n"
     ]
    }
   ],
   "source": [
    "#**Question 2:**\n",
    "#   Declare a string variable `message` and concatenate it with another string, then print the result.\n",
    "first_name = \"Muhammad\"\n",
    "last_name = \"Ahmad\"\n",
    "name = first_name + last_name\n",
    "print(name)"
   ]
  },
  {
   "cell_type": "code",
   "execution_count": 3,
   "metadata": {},
   "outputs": [
    {
     "name": "stdout",
     "output_type": "stream",
     "text": [
      "[1, 'A', True]\n"
     ]
    }
   ],
   "source": [
    "#**Question 3:**\n",
    "#   Create a list containing three different data types (int, float, str). Print the list.\n",
    "my_list = [1,\"A\",True]\n",
    "print(my_list)"
   ]
  },
  {
   "cell_type": "code",
   "execution_count": 5,
   "metadata": {},
   "outputs": [
    {
     "name": "stdout",
     "output_type": "stream",
     "text": [
      "5\n"
     ]
    }
   ],
   "source": [
    "#**Question 4:**\n",
    "#   Given a float number `height`, convert it to an integer and print the result.\n",
    "height_float = 5.8\n",
    "height_integer = int(height_float)\n",
    "print(height_integer)"
   ]
  },
  {
   "cell_type": "code",
   "execution_count": 6,
   "metadata": {},
   "outputs": [
    {
     "name": "stdout",
     "output_type": "stream",
     "text": [
      "(1, 'a', False)\n"
     ]
    }
   ],
   "source": [
    "# **Question 5:**\n",
    "#   Declare a tuple with three elements: an integer, a float, and a string. Print the tuple.\n",
    "my_tuple = 1,\"a\",False\n",
    "print(my_tuple)"
   ]
  },
  {
   "cell_type": "markdown",
   "metadata": {},
   "source": [
    "\n",
    "### Intermediate Level:"
   ]
  },
  {
   "cell_type": "code",
   "execution_count": 8,
   "metadata": {},
   "outputs": [
    {
     "name": "stdout",
     "output_type": "stream",
     "text": [
      "10\n"
     ]
    }
   ],
   "source": [
    "#**Question 6:**\n",
    "#   Write a program that takes user input for their age and prints it as an integer.\n",
    "age = int(input(\"Enter Your Age :\"))\n",
    "print(age)"
   ]
  },
  {
   "cell_type": "code",
   "execution_count": 9,
   "metadata": {},
   "outputs": [
    {
     "name": "stdout",
     "output_type": "stream",
     "text": [
      "{'Name': 'ABC', 'Age': 0, 'City': 'Your city'}\n"
     ]
    }
   ],
   "source": [
    "#**Question 7:**\n",
    "#   Create a dictionary representing a person with keys for 'name', 'age', and 'city'. \n",
    "#Print the dictionary.\n",
    "person = {\"Name\":\"ABC\",\n",
    "          \"Age\":000000,\n",
    "          \"City\":\"Your city\"}\n",
    "print(person)"
   ]
  },
  {
   "cell_type": "code",
   "execution_count": 15,
   "metadata": {},
   "outputs": [
    {
     "name": "stdout",
     "output_type": "stream",
     "text": [
      "Sum is my list [1, 2, 3, 4, 5, 6, 7, 8, 9, 10] is 55\n",
      "Average is my list [1, 2, 3, 4, 5, 6, 7, 8, 9, 10] is 5\n"
     ]
    }
   ],
   "source": [
    "# **Question 8:**\n",
    "#   Given a list of numbers, find the sum and average of all the elemen\n",
    "def sum(my_list):\n",
    "    sum = 0\n",
    "    for i in my_list:\n",
    "        sum += i\n",
    "    return sum\n",
    "list_length = 0\n",
    "def average(my_list):\n",
    "    global list_length\n",
    "    for i in my_list:\n",
    "        list_length +=1\n",
    "    return sum(my_list)/list_length\n",
    "my_list = [1,2,3,4,5,6,7,8,9,10]\n",
    "print(\"Sum is my list %s is %i\" % (my_list,sum(my_list)))\n",
    "print(\"Average is my list %s is %i\" % (my_list,average(my_list)))"
   ]
  },
  {
   "cell_type": "code",
   "execution_count": 25,
   "metadata": {},
   "outputs": [
    {
     "name": "stdout",
     "output_type": "stream",
     "text": [
      "My String is ahmadzafaremanahmadashmalahmad and reverse string is damhalamhsadamhanamerafazdamha\n",
      "30\n"
     ]
    }
   ],
   "source": [
    "#**Question 9:**\n",
    "#   Write a function that takes a string as input and returns the reversed version of the string.\n",
    "my_string = input(\"Enter any string\")\n",
    "reverse_string = \"\"\n",
    "len_string = 0\n",
    "for i in my_string:\n",
    "    len_string +=1\n",
    "def reverse(my_string):\n",
    "    global len_string\n",
    "    global reverse_string \n",
    "    for i in range(len_string-1,-1,-1):\n",
    "        reverse_string += my_string[i]\n",
    "reverse(my_string)\n",
    "print(\"My String is %s and reverse string is %s\" %(my_string,reverse_string))\n",
    "print(len_string)"
   ]
  },
  {
   "cell_type": "code",
   "execution_count": 20,
   "metadata": {},
   "outputs": [
    {
     "name": "stdout",
     "output_type": "stream",
     "text": [
      "10\n",
      "9\n",
      "8\n",
      "7\n",
      "6\n",
      "5\n",
      "4\n",
      "3\n",
      "2\n",
      "1\n"
     ]
    }
   ],
   "source": [
    "#**Question 10:**\n",
    "#    Create a set with some duplicate elements. Remove duplicates and print the updated set.\n"
   ]
  }
 ],
 "metadata": {
  "kernelspec": {
   "display_name": "Python 3",
   "language": "python",
   "name": "python3"
  },
  "language_info": {
   "codemirror_mode": {
    "name": "ipython",
    "version": 3
   },
   "file_extension": ".py",
   "mimetype": "text/x-python",
   "name": "python",
   "nbconvert_exporter": "python",
   "pygments_lexer": "ipython3",
   "version": "3.12.1"
  }
 },
 "nbformat": 4,
 "nbformat_minor": 2
}
