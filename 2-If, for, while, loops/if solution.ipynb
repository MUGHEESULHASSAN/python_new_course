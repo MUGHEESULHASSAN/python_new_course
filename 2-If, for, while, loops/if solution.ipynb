{
 "cells": [
  {
   "cell_type": "markdown",
   "metadata": {},
   "source": [
    "### if Exercise Solution"
   ]
  },
  {
   "cell_type": "code",
   "execution_count": 3,
   "metadata": {},
   "outputs": [
    {
     "name": "stdout",
     "output_type": "stream",
     "text": [
      "num2 or num3 are equal num2 is %s or num3 is %s (15, 15)\n"
     ]
    }
   ],
   "source": [
    "# **Nested Conditions:**\n",
    "#Write a Python program that takes three integers as input and prints the largest among them, #considering all possible combinations of nested `if` statements.\n",
    "num1 = int(input(\"Enter Your Number:\"))\n",
    "num2 = int(input(\"ENter num2 number:\"))\n",
    "num3 = int(input(\"Enter num3 number:\"))\n",
    "if (num1 > num2) and (num1 >num3):\n",
    "    print(\"Num1 is greater number:\",num1)\n",
    "elif (num2>num1) and (num2 >num3):\n",
    "    print(\"Num2 is greater number:\",num2)\n",
    "    print(\"this is greater\")\n",
    "elif (num1==num2):\n",
    "    print(\"NUm1 or num2 is equal num1 is %s or num2 is %s\" % (num1,num2))\n",
    "    print(\"this is greater\")\n",
    "elif (num1 == num3):\n",
    "    print(\"Num1 or num3 are equal num1 is %s or num3 is %s\",(num1,num3))\n",
    "    print(\"This is greater\")\n",
    "elif (num2 == num3):\n",
    "    print(\"num2 or num3 are equal num2 is %s or num3 is %s\",(num2,num3))\n",
    "else:\n",
    "    print(\"num3 is greater number\", num3)"
   ]
  },
  {
   "cell_type": "code",
   "execution_count": 5,
   "metadata": {},
   "outputs": [
    {
     "name": "stdout",
     "output_type": "stream",
     "text": [
      "Not leap year\n"
     ]
    }
   ],
   "source": [
    "#**Leap Year Checker:**\n",
    "#   Create a program that checks if a given year is a leap year. Consider the rules for leap years (divisible by 4, but not divisible by 100 unless also divisible by 400).\n",
    "year = int(input(\"Enter year: \"))\n",
    "if year %4 == 0:\n",
    "    print(\"leap year \")\n",
    "else:\n",
    "    print(\"Not leap year\")\n"
   ]
  },
  {
   "cell_type": "code",
   "execution_count": 13,
   "metadata": {},
   "outputs": [
    {
     "name": "stdout",
     "output_type": "stream",
     "text": [
      "root one is (nan+nanj)\n",
      "root two is (nan+nanj)\n"
     ]
    },
    {
     "name": "stderr",
     "output_type": "stream",
     "text": [
      "C:\\Users\\A\\AppData\\Local\\Temp\\ipykernel_11312\\739799197.py:17: RuntimeWarning: invalid value encountered in sqrt\n",
      "  root_one = (-b - np.sqrt(discriminant)*1j) / (2*a)\n",
      "C:\\Users\\A\\AppData\\Local\\Temp\\ipykernel_11312\\739799197.py:18: RuntimeWarning: invalid value encountered in sqrt\n",
      "  root_two = (-b + np.sqrt(discriminant)*1j) / (2*a)\n"
     ]
    }
   ],
   "source": [
    "#**Quadratic Equation Roots:**\n",
    "#   Write a program that takes coefficients of a quadratic equation as input and \n",
    "#prints the roots, considering both real and complex roots. Use the discriminant \n",
    "#to determine the nature of the roots.\n",
    "#equation x2 - x -1 = 0\n",
    "import numpy as np\n",
    "def quadratic_roots(a,b,c):\n",
    "    discriminant = (b**2) - (4*a*c)\n",
    "    if discriminant > 0:\n",
    "        root_one = (-b - np.sqrt(discriminant)) / (2*a)\n",
    "        root_two = (-b + np.sqrt(discriminant)) / (2*a)\n",
    "        print(f\"Root one is {root_one} or root two is {root_two}\")\n",
    "    elif discriminant == 0:\n",
    "        root = -b/(2*a)\n",
    "        print(f\"root One or root two is {root}\")\n",
    "    else:\n",
    "        root_one = (-b - np.sqrt(discriminant)*1j) / (2*a)\n",
    "        root_two = (-b + np.sqrt(discriminant)*1j) / (2*a)\n",
    "        print(f\"root one is {root_one}\")\n",
    "        print(f\"root two is {root_two}\")\n",
    "a = 1\n",
    "b = 1\n",
    "c = 1\n",
    "quadratic_roots(a,b,c)"
   ]
  },
  {
   "cell_type": "code",
   "execution_count": 15,
   "metadata": {},
   "outputs": [
    {
     "name": "stdout",
     "output_type": "stream",
     "text": [
      "roots are [-0.5+0.8660254j -0.5-0.8660254j]\n"
     ]
    }
   ],
   "source": [
    "def quadratic_roots(a,b,c):\n",
    "    roots = np.roots([a,b,c])\n",
    "    print(f\"roots are {roots}\")\n",
    "\n",
    "a = 1\n",
    "b = 1\n",
    "c = 1\n",
    "quadratic_roots(a,b,c)"
   ]
  },
  {
   "cell_type": "code",
   "execution_count": null,
   "metadata": {},
   "outputs": [],
   "source": [
    "#**Grade Calculator:**\n",
    "#   Develop a program that takes a numerical score as input and prints the corresponding letter grade using the traditional grading scale (A, B, C, D, F).\n",
    "def grade_cal(numbers):\n",
    "    if numbers > 85:\n",
    "        print(\"\"\"Your number is {numbe} and Grade is A+\"\"\")\n",
    "    if numbers > 70:\n",
    "        print()"
   ]
  }
 ],
 "metadata": {
  "kernelspec": {
   "display_name": "Python 3",
   "language": "python",
   "name": "python3"
  },
  "language_info": {
   "codemirror_mode": {
    "name": "ipython",
    "version": 3
   },
   "file_extension": ".py",
   "mimetype": "text/x-python",
   "name": "python",
   "nbconvert_exporter": "python",
   "pygments_lexer": "ipython3",
   "version": "3.12.1"
  }
 },
 "nbformat": 4,
 "nbformat_minor": 2
}
