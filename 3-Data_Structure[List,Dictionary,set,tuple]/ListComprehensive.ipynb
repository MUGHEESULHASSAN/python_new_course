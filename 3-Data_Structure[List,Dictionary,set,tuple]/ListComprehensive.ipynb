{
 "cells": [
  {
   "cell_type": "markdown",
   "metadata": {},
   "source": [
    "# List Comprehensive\n",
    "### Syntax\n",
    "### newlist = [expression(element) for element in oldlist if condition]"
   ]
  },
  {
   "cell_type": "code",
   "execution_count": 2,
   "metadata": {},
   "outputs": [
    {
     "name": "stdout",
     "output_type": "stream",
     "text": [
      "odd number square list with list comprehensive [1, 9, 25, 49, 81]\n"
     ]
    }
   ],
   "source": [
    "#odd square list wit comprehensive list\n",
    "oddlist = [i**2 for i in range(0,11) if i % 2 == 1]\n",
    "print('odd number square list with list comprehensive',oddlist)"
   ]
  }
 ],
 "metadata": {
  "kernelspec": {
   "display_name": "Python 3",
   "language": "python",
   "name": "python3"
  },
  "language_info": {
   "codemirror_mode": {
    "name": "ipython",
    "version": 3
   },
   "file_extension": ".py",
   "mimetype": "text/x-python",
   "name": "python",
   "nbconvert_exporter": "python",
   "pygments_lexer": "ipython3",
   "version": "3.11.4"
  }
 },
 "nbformat": 4,
 "nbformat_minor": 2
}
