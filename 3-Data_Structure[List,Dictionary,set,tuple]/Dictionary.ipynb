{
 "cells": [
  {
   "cell_type": "markdown",
   "metadata": {},
   "source": [
    "# Dictionary"
   ]
  },
  {
   "cell_type": "code",
   "execution_count": 5,
   "metadata": {},
   "outputs": [
    {
     "name": "stdout",
     "output_type": "stream",
     "text": [
      "Dictionary {1: 'geeks', 2: 'forn', 3: 'geeksn'}\n"
     ]
    }
   ],
   "source": [
    "#create a dictionary \n",
    "mydict = {1:'geeks',\n",
    "          2:'forn',\n",
    "          3:'geeksn'}\n",
    "print(\"Dictionary with integer values\",mydict)\n",
    "#create a dictionary with mixed key\n",
    "mydict = {\n",
    "    'name':'geeks',\n",
    "    1:[1,2,3]\n",
    "}\n",
    "print(\"Dictionary with mixed key\",mydict)"
   ]
  }
 ],
 "metadata": {
  "kernelspec": {
   "display_name": "Python 3",
   "language": "python",
   "name": "python3"
  },
  "language_info": {
   "codemirror_mode": {
    "name": "ipython",
    "version": 3
   },
   "file_extension": ".py",
   "mimetype": "text/x-python",
   "name": "python",
   "nbconvert_exporter": "python",
   "pygments_lexer": "ipython3",
   "version": "3.11.4"
  }
 },
 "nbformat": 4,
 "nbformat_minor": 2
}
