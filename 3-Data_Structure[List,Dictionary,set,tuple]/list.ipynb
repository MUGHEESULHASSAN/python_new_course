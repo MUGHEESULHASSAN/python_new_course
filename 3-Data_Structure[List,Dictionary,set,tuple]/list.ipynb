{
 "cells": [
  {
   "cell_type": "markdown",
   "metadata": {},
   "source": [
    "# List"
   ]
  },
  {
   "cell_type": "code",
   "execution_count": 5,
   "metadata": {},
   "outputs": [
    {
     "name": "stdout",
     "output_type": "stream",
     "text": [
      "blank list []\n",
      "list of number [10, 20, 30]\n",
      "String of list ['geeks', 'for', 'geeks']\n",
      "first element of string list geeks second element of string of list for\n",
      "multi dimensional of list [['geeks', 'for', 'geeks'], 10, 20, 30]\n"
     ]
    }
   ],
   "source": [
    "#create a list \n",
    "List = []\n",
    "print(\"blank list\",List)\n",
    "#crate a list wth number of list\n",
    "List = [10,20,30]\n",
    "print(\"list of number\",List)\n",
    "#create a list with string and accessing\n",
    "List = ['geeks','for','geeks']\n",
    "print('String of list',List)\n",
    "print('first element of string list',List[0],'second element of string of list',List[1])\n",
    "#create a multi dimensional list \n",
    "List = [['geeks','for','geeks'],10,20,30]\n",
    "print('multi dimensional of list',List)"
   ]
  },
  {
   "cell_type": "markdown",
   "metadata": {},
   "source": [
    "# caeata a list with multi distinct or duplicate elements"
   ]
  },
  {
   "cell_type": "code",
   "execution_count": 7,
   "metadata": {},
   "outputs": [
    {
     "name": "stdout",
     "output_type": "stream",
     "text": [
      "duplicate elements of list [1, 1, 2, 3, 4, 5, 6, 7, 8, 9]\n",
      "list with number or string [1, 'geeks', 2, 'for', 3, 'geeks']\n"
     ]
    }
   ],
   "source": [
    "#create a list with multi duplicate a value\n",
    "List = [1,1,2,3,4,5,6,7,8,9]\n",
    "print(\"duplicate elements of list\",List)\n",
    "#create list with number or string\n",
    "List = [1,'geeks',2,'for',3,'geeks']\n",
    "print(\"list with number or string\",List)"
   ]
  },
  {
   "cell_type": "markdown",
   "metadata": {},
   "source": [
    "# Known the size of list\n"
   ]
  },
  {
   "cell_type": "code",
   "execution_count": 8,
   "metadata": {},
   "outputs": [
    {
     "name": "stdout",
     "output_type": "stream",
     "text": [
      "Length of empty list 0\n",
      "Length of number list 6\n"
     ]
    }
   ],
   "source": [
    "#empty list \n",
    "List = []\n",
    "print(\"Length of empty list\",len(List))\n",
    "#number of list\n",
    "List = [1,2,3,4,5,6]\n",
    "print(\"Length of number list\",len(List))"
   ]
  },
  {
   "cell_type": "markdown",
   "metadata": {},
   "source": [
    "# Add elements using append function\n"
   ]
  },
  {
   "cell_type": "code",
   "execution_count": 11,
   "metadata": {},
   "outputs": [
    {
     "name": "stdout",
     "output_type": "stream",
     "text": [
      "empty list to number os list using append function to add element [1, 2, 3]\n",
      "Adding element using for loop into list [0, 1, 2, 3, 4, 5, 6, 7, 8, 9]\n",
      "add a tuple into list using append function [0, 1, 2, 3, 4, 5, 6, 7, 8, 9, (444, 8888)]\n"
     ]
    }
   ],
   "source": [
    "#empty list\n",
    "List_one = []\n",
    "List_one.append(1)\n",
    "List_one.append(2)\n",
    "List_one.append(3)\n",
    "print(\"empty list to number os list using append function to add element\",List) \n",
    "list_two = []\n",
    "for i in range(0,10):\n",
    "    list_two.append(i)\n",
    "print(\"Adding element using for loop into list\",list_two)\n",
    "list_two.append((444,8888))\n",
    "print(\"add a tuple into list using append function\",list_two)\n",
    "\n"
   ]
  },
  {
   "cell_type": "markdown",
   "metadata": {},
   "source": [
    "# Using insert() function to insert values into list \n",
    "## insert() function take two elements first for place or second for value\n"
   ]
  },
  {
   "cell_type": "code",
   "execution_count": 13,
   "metadata": {},
   "outputs": [
    {
     "name": "stdout",
     "output_type": "stream",
     "text": [
      "initial list [1, 2, 3, 4]\n",
      "List after increment ['geeks', 1, 2, 2222, 3, 4]\n"
     ]
    }
   ],
   "source": [
    "#create a list \n",
    "List = [1,2,3,4]\n",
    "print('initial list',List)\n",
    "#insert at 2 index place value is 22222\n",
    "List.insert(2,2222)\n",
    "List.insert(0,'geeks')\n",
    "print('List after increment',List)\n"
   ]
  },
  {
   "cell_type": "markdown",
   "metadata": {},
   "source": [
    "# using extend function increase list"
   ]
  },
  {
   "cell_type": "code",
   "execution_count": 17,
   "metadata": {},
   "outputs": [
    {
     "name": "stdout",
     "output_type": "stream",
     "text": [
      "after extending the list [1, 2, 3, 4, 5, 6, 7, 222222]\n",
      "[1, 2, 3, 4, 5, 6, 7, 222222, 2222222, 'geeks', 'for', 'geeks']\n"
     ]
    }
   ],
   "source": [
    "#create list\n",
    "List = [1,2,3,4,5,6,7]\n",
    "#using extend function to add value in the form of the list into list at the end of this list\n",
    "List.extend([222222])\n",
    "print('after extending the list',List)\n",
    "#using extend funtion add multiple values into the list\n",
    "List.extend([2222222,'geeks','for','geeks'])\n",
    "print(List)"
   ]
  },
  {
   "cell_type": "markdown",
   "metadata": {},
   "source": [
    "# Accessing elements from the list\n"
   ]
  },
  {
   "cell_type": "code",
   "execution_count": 21,
   "metadata": {},
   "outputs": [
    {
     "name": "stdout",
     "output_type": "stream",
     "text": [
      "First Element of one dimensions list 0\n",
      "first element of two dimensional element [1, 2, 3, 4, 5, 6, 7, 8, 9]\n"
     ]
    }
   ],
   "source": [
    "#create a list \n",
    "List = [0,1,2,3,4,5,6]\n",
    "print('First Element of one dimensions list',List[0])\n",
    "two_dimension = [[1,2,3,4,5,6,7,8,9]]\n",
    "print('first element of two dimensional element',two_dimension[0])\n"
   ]
  },
  {
   "cell_type": "markdown",
   "metadata": {},
   "source": [
    "# Negative Index of list"
   ]
  },
  {
   "cell_type": "code",
   "execution_count": 24,
   "metadata": {},
   "outputs": [
    {
     "name": "stdout",
     "output_type": "stream",
     "text": [
      "Through Negative index access first element geeks\n",
      "Through Negative index access third element for\n"
     ]
    }
   ],
   "source": [
    "mylist = [1,'geeks',2,'for',3,'geeks']\n",
    "print('Through Negative index access first element',mylist[-1])\n",
    "print('Through Negative index access third element',mylist[-3])"
   ]
  },
  {
   "cell_type": "markdown",
   "metadata": {},
   "source": [
    "# Removing elements from the list"
   ]
  },
  {
   "cell_type": "code",
   "execution_count": 27,
   "metadata": {},
   "outputs": [
    {
     "name": "stdout",
     "output_type": "stream",
     "text": [
      "this is my originally list [11111111, 1, 2, 3, 4, 5, 6, 7, 8, 9, 10, 11]\n",
      "remove value 1 from list\n",
      "After performing remove function on list [11111111, 2, 3, 4, 5, 6, 7, 8, 9, 10, 11]\n"
     ]
    }
   ],
   "source": [
    "mylist = [11111111,1,2,3,4,5,6,7,8,9,10,11]\n",
    "print('this is my originally list',mylist)\n",
    "print(\"remove value 1 from list\")\n",
    "mylist.remove(1)\n",
    "print(\"After performing remove function on list\",mylist)"
   ]
  },
  {
   "cell_type": "markdown",
   "metadata": {},
   "source": [
    "# pop()\n",
    "### Using pop() to remove end element by default\n",
    "### by pass index to delete specific index element \n"
   ]
  },
  {
   "cell_type": "code",
   "execution_count": 29,
   "metadata": {},
   "outputs": [
    {
     "name": "stdout",
     "output_type": "stream",
     "text": [
      "Originally list [1, 2, 3, 4, 4, 5, 6, 7, 8, 9, 10, 11]\n",
      "Remove the end element with pop [1, 2, 3, 4, 4, 5, 6, 7, 8, 9, 10]\n",
      "Remove the mid element with pop function [1, 2, 3, 4, 4, 6, 7, 8, 9, 10]\n"
     ]
    }
   ],
   "source": [
    "#create a list \n",
    "mylist = [1,2,3,4,4,5,6,7,8,9,10,11]\n",
    "print('Originally list',mylist)\n",
    "mylist.pop()\n",
    "print('Remove the end element with pop',mylist)\n",
    "mylist.pop(5)\n",
    "print('Remove the mid element with pop function',mylist)\n"
   ]
  },
  {
   "cell_type": "markdown",
   "metadata": {},
   "source": [
    "# Slicing of a list "
   ]
  },
  {
   "cell_type": "code",
   "execution_count": 42,
   "metadata": {},
   "outputs": [
    {
     "name": "stdout",
     "output_type": "stream",
     "text": [
      "Originally list: ['a', 'b', 'c', 'd', 'e', 'f', 'g', 'h', 'i', 'j', 'k', 'l', 'm', 'n', 'o']\n",
      "This is mylist with slicing: ['f', 'g', 'h', 'i', 'j', 'k', 'l', 'm', 'n', 'o']\n",
      "Originally mylist_two: My name is Muhammad Ahmad. i am a data scientist at google and amazon\n",
      "This is mylist through slicing:  me is Muhammad Ahmad. i am a data scientist at google and amazon\n"
     ]
    }
   ],
   "source": [
    "mylist_one = ['a','b','c','d','e','f','g','h','i','j','k','l','m','n','o']\n",
    "print('Originally list:',mylist_one)\n",
    "print(\"This is mylist with slicing:\",mylist_one[5:])\n",
    "mylist_two = 'My name is Muhammad Ahmad. i am a data scientist at google and amazon'#['My name is Muhammad Ahmad. i am a data scientist at google and amazon.']\n",
    "print(\"Originally mylist_two:\",mylist_two)\n",
    "print('This is mylist through slicing: ',mylist_two[5:])"
   ]
  },
  {
   "cell_type": "markdown",
   "metadata": {},
   "source": [
    "# Neagtive Slicing \n"
   ]
  },
  {
   "cell_type": "code",
   "execution_count": 46,
   "metadata": {},
   "outputs": [
    {
     "name": "stdout",
     "output_type": "stream",
     "text": [
      "Originally list: ['a', 'b', 'c', 'd', 'e', 'f', 'g', 'h', 'i', 'j', 'k', 'l', 'm', 'n', 'o']\n",
      "This is mylist with slicing: ['k', 'l', 'm', 'n', 'o']\n",
      "Originally mylist_two: My name is Muhammad Ahmad. i am a data scientist at google and amazon\n",
      "This is mylist through slicing:  mazon\n"
     ]
    }
   ],
   "source": [
    "mylist_one = ['a','b','c','d','e','f','g','h','i','j','k','l','m','n','o']\n",
    "print('Originally list:',mylist_one)\n",
    "print(\"This is mylist with slicing:\",mylist_one[-5:])\n",
    "mylist_two = 'My name is Muhammad Ahmad. i am a data scientist at google and amazon'#['My name is Muhammad Ahmad. i am a data scientist at google and amazon.']\n",
    "print(\"Originally mylist_two:\",mylist_two)\n",
    "print('This is mylist through slicing: ',mylist_two[-5:])"
   ]
  }
 ],
 "metadata": {
  "kernelspec": {
   "display_name": "Python 3",
   "language": "python",
   "name": "python3"
  },
  "language_info": {
   "codemirror_mode": {
    "name": "ipython",
    "version": 3
   },
   "file_extension": ".py",
   "mimetype": "text/x-python",
   "name": "python",
   "nbconvert_exporter": "python",
   "pygments_lexer": "ipython3",
   "version": "3.11.4"
  }
 },
 "nbformat": 4,
 "nbformat_minor": 2
}
